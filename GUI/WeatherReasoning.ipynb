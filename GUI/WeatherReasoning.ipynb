{
 "cells": [
  {
   "cell_type": "code",
   "execution_count": null,
   "metadata": {},
   "outputs": [],
   "source": []
  },
  {
   "cell_type": "code",
   "execution_count": 44,
   "metadata": {},
   "outputs": [],
   "source": [
    "import tkinter as tk\n",
    "from tkinter import *\n",
    "from tkinter import ttk\n",
    "from PIL import Image, ImageTk\n",
    "class Application(tk.Frame):\n",
    "    def __init__(self, master = None):\n",
    "        super().__init__(master)\n",
    "        self.master = master\n",
    "        self.pack()\n",
    "        self.home()\n",
    "    def home(self):\n",
    "            \n",
    "        cloudy = Image.open(\"icons8-partly-cloudy-day-96.png\")\n",
    "        rainy = Image.open(\"icons8-rainy-weather-96.png\")\n",
    "        snow = Image.open(\"icons8-snow-100.png\")\n",
    "        stormy = Image.open(\"icons8-stormy-night-200.png\")\n",
    "        sunny = Image.open(\"icons8-sun-100.png\")\n",
    "        windy = Image.open(\"icons8-windy-weather-160.png\")\n",
    "        load = Image.open(\"icons8-partly-cloudy-day-96.png\")\n",
    "        \n",
    "        weatherFrame = Frame(root,width=512,height=420,bg=\"#fa163f\")\n",
    "        weatherFrame.pack(fill=BOTH, expand=1)\n",
    "        \n",
    "        render = ImageTk.PhotoImage(load)\n",
    "    \n",
    "\n",
    "        address = \"Punjab,India\\n\"\n",
    "        dayTime = \"Monday 8:00 AM\\n\"\n",
    "        temp = \"16\"\n",
    "        unitCelcius = \"°C\\n\"\n",
    "        unitFarenheit =  \"°F\\n\"\n",
    "        precipitation = \"\\nPrecipitation: 0%\\n\"\n",
    "        humidity = \"Humidity: 82%\\n\"\n",
    "        wind = \"Wind: 10km/h\\n\"\n",
    "        typeOfWeather = \"Light Rain Shower\\n\"\n",
    "        \n",
    "        textFrame = Frame(weatherFrame,width=500,height=330,bg=\"black\")\n",
    "        textFrame.place(x=5,y=10)\n",
    "        \n",
    "        bindText = dayTime+typeOfWeather+temp+unitCelcius+precipitation+humidity+wind;\n",
    "        \n",
    "        add = Label(textFrame,text=address,bg=\"#12cad6\") \n",
    "        add.config(font=('Calibri 30'))\n",
    "        add.place(x=0,y=0,width=500)\n",
    "        \n",
    "        img = Label(textFrame, image=render,bg=\"#12cad6\")\n",
    "        img.image = render\n",
    "        img.place(x=0, y=50,width=500)\n",
    "        \n",
    "        \n",
    "        bindTextLabel = Label(textFrame,text=bindText,fg=\"#e4f9ff\",bg=\"#12cad6\") \n",
    "        bindTextLabel.config(font=('Calibri 15'))\n",
    "        bindTextLabel.place(x=0,y=150,width=500)\n",
    "        \n",
    "        \n",
    "        today = Button(text=\"Today\",bg=\"#e4f9ff\")\n",
    "        today.place(x=0,y=350,width=180,height=75)\n",
    "        \n",
    "        tomm = Button(text=\"Tommorow\",bg=\"#e4f9ff\")\n",
    "        tomm.place(x=170,y=350,width=200,height=75)\n",
    "        \n",
    "        detail = Button(text=\"Details\",bg=\"#e4f9ff\")\n",
    "        detail.place(x=350,y=350,width=170,height=75)\n",
    "        \n",
    "root = tk.Tk()\n",
    "app = Application(master=root)\n",
    "root.wm_title(\"Weather Reasoning\")\n",
    "root.geometry(\"512x420\")\n",
    "root.iconbitmap('icons8-stormy-weather-96.ico')\n",
    "root.mainloop()"
   ]
  },
  {
   "cell_type": "code",
   "execution_count": null,
   "metadata": {},
   "outputs": [],
   "source": []
  },
  {
   "cell_type": "code",
   "execution_count": null,
   "metadata": {},
   "outputs": [],
   "source": []
  },
  {
   "cell_type": "code",
   "execution_count": null,
   "metadata": {},
   "outputs": [],
   "source": []
  },
  {
   "cell_type": "code",
   "execution_count": null,
   "metadata": {},
   "outputs": [],
   "source": []
  }
 ],
 "metadata": {
  "kernelspec": {
   "display_name": "Python 3",
   "language": "python",
   "name": "python3"
  },
  "language_info": {
   "codemirror_mode": {
    "name": "ipython",
    "version": 3
   },
   "file_extension": ".py",
   "mimetype": "text/x-python",
   "name": "python",
   "nbconvert_exporter": "python",
   "pygments_lexer": "ipython3",
   "version": "3.7.0"
  }
 },
 "nbformat": 4,
 "nbformat_minor": 2
}
